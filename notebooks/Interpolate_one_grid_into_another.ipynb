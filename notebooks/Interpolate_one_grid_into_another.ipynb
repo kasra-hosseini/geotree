{
 "cells": [
  {
   "cell_type": "markdown",
   "id": "0332940b",
   "metadata": {},
   "source": [
    "# Interpolate values of one grid into another one"
   ]
  },
  {
   "cell_type": "code",
   "execution_count": null,
   "id": "3d5a7877",
   "metadata": {},
   "outputs": [],
   "source": [
    "# solve issue with autocomplete\n",
    "%config Completer.use_jedi = False\n",
    "\n",
    "%load_ext autoreload\n",
    "%autoreload 2\n",
    "%matplotlib inline"
   ]
  },
  {
   "cell_type": "code",
   "execution_count": null,
   "id": "5e44900e",
   "metadata": {},
   "outputs": [],
   "source": [
    "from geotree import gtree\n",
    "import numpy as np"
   ]
  },
  {
   "cell_type": "code",
   "execution_count": null,
   "id": "524f47c7",
   "metadata": {},
   "outputs": [],
   "source": [
    "# instantiate gkdtree\n",
    "mytree = gtree()"
   ]
  },
  {
   "cell_type": "markdown",
   "id": "bc23ae73",
   "metadata": {},
   "source": [
    "## Define the first set of points"
   ]
  },
  {
   "cell_type": "code",
   "execution_count": null,
   "id": "3a011262",
   "metadata": {},
   "outputs": [],
   "source": [
    "# Define the first set of points\n",
    "npoints = 100\n",
    "lons = np.random.randint(-180, 180, npoints)\n",
    "lats = np.random.randint(-90, 90, npoints)\n",
    "depths = np.zeros(npoints)\n",
    "\n",
    "# some random values (for each point)\n",
    "vals = np.zeros(npoints)\n",
    "vals[:(npoints//2)] = 0\n",
    "vals[(npoints//2):] = 1\n",
    "# random:\n",
    "# mu = 0\n",
    "# sigma = 1\n",
    "# vals = sigma*np.random.randn(npoints) + mu"
   ]
  },
  {
   "cell_type": "code",
   "execution_count": null,
   "id": "55161276",
   "metadata": {},
   "outputs": [],
   "source": [
    "# Add lons/lats/depths of the first set of points\n",
    "mytree.add_lonlatdep(lons=lons, \n",
    "                     lats=lats, \n",
    "                     depths=depths)"
   ]
  },
  {
   "cell_type": "markdown",
   "id": "bdba2d9b",
   "metadata": {},
   "source": [
    "## Define queries"
   ]
  },
  {
   "cell_type": "code",
   "execution_count": null,
   "id": "47186edc",
   "metadata": {},
   "outputs": [],
   "source": [
    "# Define queries\n",
    "q_npoints = 1000000\n",
    "q_lons = np.random.randint(-180, 180, q_npoints)\n",
    "q_lats = np.random.randint(-90, 90, q_npoints)\n",
    "q_depths = np.zeros(q_npoints)"
   ]
  },
  {
   "cell_type": "code",
   "execution_count": null,
   "id": "cea3e198",
   "metadata": {},
   "outputs": [],
   "source": [
    "# Add lons/lats/depths of queries\n",
    "mytree.add_lonlatdep_query(lons=q_lons, \n",
    "                           lats=q_lats, \n",
    "                           depths=q_depths)"
   ]
  },
  {
   "cell_type": "markdown",
   "id": "51469b69",
   "metadata": {},
   "source": [
    "## Add values (for the first set of points)"
   ]
  },
  {
   "cell_type": "code",
   "execution_count": null,
   "id": "8fdc201a",
   "metadata": {},
   "outputs": [],
   "source": [
    "# Add values, note: size of vals should be \n",
    "# the same as the first set of points\n",
    "mytree.add_vals(vals)"
   ]
  },
  {
   "cell_type": "markdown",
   "id": "55235242",
   "metadata": {},
   "source": [
    "## Interpolate"
   ]
  },
  {
   "cell_type": "code",
   "execution_count": null,
   "id": "7e9f3ce0",
   "metadata": {},
   "outputs": [],
   "source": [
    "mytree.interpolate(num_neighs=1, method=\"balltree\")"
   ]
  },
  {
   "cell_type": "code",
   "execution_count": null,
   "id": "2df814ee",
   "metadata": {},
   "outputs": [],
   "source": [
    "import matplotlib.pyplot as plt\n",
    "plt.figure(figsize=(15, 7))\n",
    "plt.scatter(q_lons, q_lats, \n",
    "            c=mytree.interp_vals, \n",
    "            marker=\"x\", \n",
    "            vmin=min(vals), vmax=max(vals),\n",
    "            label=\"queries\")\n",
    "\n",
    "plt.scatter(lons, lats,\n",
    "            c=vals, \n",
    "            marker=\"o\",\n",
    "            vmin=min(vals), vmax=max(vals), edgecolors=\"r\",\n",
    "            label=\"base\",\n",
    "            zorder=100)\n",
    "\n",
    "plt.legend(bbox_to_anchor=(0., 1.01, 1., .05), \n",
    "           loc=\"right\", ncol=2, \n",
    "           fontsize=16,\n",
    "           borderaxespad=0.)\n",
    "\n",
    "plt.title(f\"Method: {mytree.interp_method}\", size=16)\n",
    "plt.colorbar()\n",
    "plt.grid()\n",
    "plt.tight_layout()\n",
    "plt.show()"
   ]
  },
  {
   "cell_type": "code",
   "execution_count": null,
   "id": "3954c7b1",
   "metadata": {},
   "outputs": [],
   "source": []
  }
 ],
 "metadata": {
  "kernelspec": {
   "display_name": "Python 3",
   "language": "python",
   "name": "python3"
  },
  "language_info": {
   "codemirror_mode": {
    "name": "ipython",
    "version": 3
   },
   "file_extension": ".py",
   "mimetype": "text/x-python",
   "name": "python",
   "nbconvert_exporter": "python",
   "pygments_lexer": "ipython3",
   "version": "3.7.10"
  }
 },
 "nbformat": 4,
 "nbformat_minor": 5
}
