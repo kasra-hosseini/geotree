{
 "cells": [
  {
   "cell_type": "markdown",
   "id": "0332940b",
   "metadata": {},
   "source": [
    "# Tree build and query times , comparison"
   ]
  },
  {
   "cell_type": "code",
   "execution_count": null,
   "id": "3d5a7877",
   "metadata": {},
   "outputs": [],
   "source": [
    "# solve issue with autocomplete\n",
    "%config Completer.use_jedi = False\n",
    "\n",
    "%load_ext autoreload\n",
    "%autoreload 2\n",
    "%matplotlib inline"
   ]
  },
  {
   "cell_type": "code",
   "execution_count": null,
   "id": "5e44900e",
   "metadata": {},
   "outputs": [],
   "source": [
    "import time\n",
    "from geotree import gtree\n",
    "import numpy as np"
   ]
  },
  {
   "cell_type": "markdown",
   "id": "324fb7a9",
   "metadata": {},
   "source": [
    "## Build time"
   ]
  },
  {
   "cell_type": "code",
   "execution_count": null,
   "id": "a7595b75",
   "metadata": {},
   "outputs": [],
   "source": [
    "million = 1000000\n",
    "list_npoints = [million // 100, million // 10, 1*million, 10*million]"
   ]
  },
  {
   "cell_type": "markdown",
   "id": "2f8f520d",
   "metadata": {},
   "source": [
    "### KDTree"
   ]
  },
  {
   "cell_type": "code",
   "execution_count": null,
   "id": "00d704a8",
   "metadata": {},
   "outputs": [],
   "source": [
    "build_times_kdt = []\n",
    "\n",
    "for npoints in list_npoints:\n",
    "    print(npoints)\n",
    "    mytree = gtree()\n",
    "    \n",
    "    lons = np.random.randint(-180, 180, npoints)\n",
    "    lats = np.random.randint(-90, 90, npoints)\n",
    "    depths = np.zeros(npoints)\n",
    "\n",
    "    # Add lons/lats/depths of the first set of points\n",
    "    mytree.add_lonlatdep(lons=lons, \n",
    "                         lats=lats, \n",
    "                         depths=depths)\n",
    "    \n",
    "    t1 = time.time()\n",
    "    mytree.create_kdt()\n",
    "    build_times_kdt.append(time.time() - t1)"
   ]
  },
  {
   "cell_type": "markdown",
   "id": "bd933302",
   "metadata": {},
   "source": [
    "### BallTree"
   ]
  },
  {
   "cell_type": "code",
   "execution_count": null,
   "id": "bd9d0b5a",
   "metadata": {},
   "outputs": [],
   "source": [
    "build_times_ball = []\n",
    "for npoints in list_npoints:\n",
    "    print(npoints)\n",
    "    mytree = gtree()\n",
    "    \n",
    "    lons = np.random.randint(-180, 180, npoints)\n",
    "    lats = np.random.randint(-90, 90, npoints)\n",
    "    depths = np.zeros(npoints)\n",
    "\n",
    "    # Add lons/lats/depths of the first set of points\n",
    "    mytree.add_lonlatdep(lons=lons, \n",
    "                         lats=lats, \n",
    "                         depths=depths)\n",
    "    \n",
    "    t1 = time.time()\n",
    "    mytree.create_kdt()\n",
    "    build_times_ball.append(time.time() - t1)"
   ]
  },
  {
   "cell_type": "markdown",
   "id": "375bc31e",
   "metadata": {},
   "source": [
    "## Query time, KDTree"
   ]
  },
  {
   "cell_type": "code",
   "execution_count": null,
   "id": "b98ff5ab",
   "metadata": {},
   "outputs": [],
   "source": [
    "npoints = 1*million\n",
    "\n",
    "lons = np.random.randint(-180, 180, npoints)\n",
    "lats = np.random.randint(-90, 90, npoints)\n",
    "depths = np.zeros(npoints)"
   ]
  },
  {
   "cell_type": "code",
   "execution_count": null,
   "id": "1a6ee955",
   "metadata": {},
   "outputs": [],
   "source": [
    "list_queries = [million // 1000, million // 100, million // 10, 1*million]"
   ]
  },
  {
   "cell_type": "code",
   "execution_count": null,
   "id": "750f413c",
   "metadata": {},
   "outputs": [],
   "source": [
    "mytree = gtree()\n",
    "\n",
    "# Add lons/lats/depths of the first set of points\n",
    "mytree.add_lonlatdep(lons=lons, \n",
    "                     lats=lats, \n",
    "                     depths=depths)"
   ]
  },
  {
   "cell_type": "code",
   "execution_count": null,
   "id": "d3919477",
   "metadata": {},
   "outputs": [],
   "source": [
    "mytree.create_kdt()"
   ]
  },
  {
   "cell_type": "code",
   "execution_count": null,
   "id": "47186edc",
   "metadata": {},
   "outputs": [],
   "source": [
    "query_times_kdt = []\n",
    "for q_npoints in list_queries:\n",
    "    print(q_npoints)\n",
    "\n",
    "    q_lons = np.random.randint(-180, 180, q_npoints)\n",
    "    q_lats = np.random.randint(-90, 90, q_npoints)\n",
    "    q_depths = np.zeros(q_npoints)\n",
    "    \n",
    "    # Add lons/lats/depths of queries\n",
    "    mytree.add_lonlatdep_query(lons=q_lons, \n",
    "                               lats=q_lats, \n",
    "                               depths=q_depths)\n",
    "    \n",
    "    t1 = time.time()\n",
    "    mytree.query_kdt()\n",
    "    query_times_kdt.append(time.time() - t1)"
   ]
  },
  {
   "cell_type": "markdown",
   "id": "3ca1cc34",
   "metadata": {},
   "source": [
    "## Query time, BallTree"
   ]
  },
  {
   "cell_type": "code",
   "execution_count": null,
   "id": "19cfcf43",
   "metadata": {},
   "outputs": [],
   "source": [
    "mytree = gtree()\n",
    "\n",
    "# Add lons/lats/depths of the first set of points\n",
    "mytree.add_lonlatdep(lons=lons, \n",
    "                     lats=lats, \n",
    "                     depths=depths)"
   ]
  },
  {
   "cell_type": "code",
   "execution_count": null,
   "id": "6cd585a9",
   "metadata": {},
   "outputs": [],
   "source": [
    "mytree.create_balltree()"
   ]
  },
  {
   "cell_type": "code",
   "execution_count": null,
   "id": "6106286b",
   "metadata": {},
   "outputs": [],
   "source": [
    "query_times_ball = []\n",
    "for q_npoints in list_queries:\n",
    "    print(q_npoints)\n",
    "    \n",
    "    q_lons = np.random.randint(-180, 180, q_npoints)\n",
    "    q_lats = np.random.randint(-90, 90, q_npoints)\n",
    "    q_depths = np.zeros(q_npoints)\n",
    "    \n",
    "    # Add lons/lats/depths of queries\n",
    "    mytree.add_lonlatdep_query(lons=q_lons, \n",
    "                               lats=q_lats, \n",
    "                               depths=q_depths)\n",
    "    \n",
    "    t1 = time.time()\n",
    "    mytree.query_balltree()\n",
    "    query_times_ball.append(time.time() - t1)"
   ]
  },
  {
   "cell_type": "markdown",
   "id": "da114e46",
   "metadata": {},
   "source": [
    "## Plot results"
   ]
  },
  {
   "cell_type": "code",
   "execution_count": null,
   "id": "cea3e198",
   "metadata": {},
   "outputs": [],
   "source": [
    "import matplotlib.pyplot as plt\n",
    "plt.figure(figsize=(15, 5))\n",
    "\n",
    "# --- Build time\n",
    "plt.subplot(1, 2, 1)\n",
    "plt.plot(list_npoints, build_times_kdt, \n",
    "         marker=\"o\", c=\"k\", lw=3, \n",
    "         label=\"KDTree\")\n",
    "plt.plot(list_npoints, build_times_ball, \n",
    "         marker=\"o\", c=\"r\", lw=3, \n",
    "         label=\"BallTree\")\n",
    "\n",
    "plt.legend(fontsize=18)\n",
    "plt.xscale(\"log\"); plt.yscale(\"log\")\n",
    "plt.xticks(size=18); plt.yticks(size=18)\n",
    "plt.grid()\n",
    "\n",
    "plt.xlabel(\"#Queries\", size=20)\n",
    "plt.ylabel(\"Time (sec)\", size=20)\n",
    "plt.title(\"Build time\", size=24)\n",
    "\n",
    "# --- Query time\n",
    "plt.subplot(1, 2, 2)\n",
    "\n",
    "plt.plot(list_queries, query_times_kdt, \n",
    "         marker=\"o\", c=\"k\", lw=3, \n",
    "         label=\"KDTree\")\n",
    "plt.plot(list_queries, query_times_ball, \n",
    "         marker=\"o\", c=\"r\", lw=3, \n",
    "         label=\"BallTree\")\n",
    "\n",
    "plt.legend(fontsize=18)\n",
    "plt.xscale(\"log\"); plt.yscale(\"log\")\n",
    "plt.xticks(size=18); plt.yticks(size=18)\n",
    "plt.grid()\n",
    "\n",
    "plt.xlabel(\"#Queries\", size=20)\n",
    "plt.ylabel(\"Time (sec)\", size=20)\n",
    "plt.title(\"Query time\", size=24)\n",
    "\n",
    "plt.tight_layout()\n",
    "plt.show()"
   ]
  },
  {
   "cell_type": "code",
   "execution_count": null,
   "id": "e9c73000",
   "metadata": {},
   "outputs": [],
   "source": []
  }
 ],
 "metadata": {
  "kernelspec": {
   "display_name": "Python 3",
   "language": "python",
   "name": "python3"
  },
  "language_info": {
   "codemirror_mode": {
    "name": "ipython",
    "version": 3
   },
   "file_extension": ".py",
   "mimetype": "text/x-python",
   "name": "python",
   "nbconvert_exporter": "python",
   "pygments_lexer": "ipython3",
   "version": "3.7.10"
  }
 },
 "nbformat": 4,
 "nbformat_minor": 5
}
